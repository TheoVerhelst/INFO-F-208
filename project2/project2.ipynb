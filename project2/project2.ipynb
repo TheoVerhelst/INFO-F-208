{
 "cells": [
  {
   "cell_type": "markdown",
   "metadata": {},
   "source": [
    "# INFO-F-208: Project 2\n",
    "** *Name:* ** Théo Verhelst  \n",
    "** *Matricule:* ** 000400807  \n",
    "** *Date:* ** 11/4/2016\n",
    "\n",
    "## Background and objectives\n",
    "Alignment of amino acids sequences has been explained in the introduction of the first project. In certain circumstances, we can have sequences known to belong to a specific protein domain, and we may want to align them in order to trace the evolution pattern of a specific domain across multiple species.\n",
    "\n",
    "In this case, a BLOSUM matrix specialised for that domain would be better than a generic one, because the matrix values would be statistically suited to align that domain.\n",
    "\n",
    "This is the point of this project: construct a BLOSUM matrix suited to align a specific domain. We will use the BLOCKS database to get aligned short sequences of that domain. These alignments will be used to compute statistical information about the substitutions occuring in that domain, and subsequently to make the BLOSUM matrix.\n",
    "\n",
    "## Code\n",
    "The code of this project is mainly functionnal and imperative. Since the algorithm of creation of BLOSUM matrix is clearly divided into successive steps, object-oriented programming would not be the best choice."
   ]
  },
  {
   "cell_type": "code",
   "execution_count": 1,
   "metadata": {
    "collapsed": true
   },
   "outputs": [],
   "source": [
    "from os.path import splitext\n",
    "from math import log2\n",
    "from statistics import mean\n",
    "\n",
    "amino_acids = \"ARNDCEQGHILKMFPSTWYV\"\n",
    "# This dict speeds up the translation amino acid => index for amino_acids\n",
    "# (at least in comparaison with amino_acid.index())\n",
    "amino_acids_indices = dict((key, i) for i, key in enumerate(amino_acids))\n",
    "gap_char = \"X\""
   ]
  },
  {
   "cell_type": "markdown",
   "metadata": {},
   "source": [
    "The variable `gap_char` represents the character used to fill gaps in the alignments given in the BLOCKS database. Occurences of this character are discarded from the frequencies matrix."
   ]
  },
  {
   "cell_type": "markdown",
   "metadata": {},
   "source": [
    "### The matrix class\n",
    "In this project, we have matrices that store a value for each pair of amino acids. So it may be convenient to be able to access data right from the pair of amino acid, and hide the translation from characters to list indices in a class. This is the intent of this class."
   ]
  },
  {
   "cell_type": "code",
   "execution_count": 2,
   "metadata": {
    "collapsed": true
   },
   "outputs": [],
   "source": [
    "class CharMatrix:\n",
    "    \"\"\"Represents a triangular matrix indexed by a finite set of characters.\n",
    "    It is suited to store values for relations between amino acids.\n",
    "    \"\"\"\n",
    "    \n",
    "    def __init__(self, keys, value):\n",
    "        \"\"\"Constructs the matrix.\n",
    "        \n",
    "        Parameters:\n",
    "            keys: an iterable of characters, it will be the set of acceptable\n",
    "                keys for indexing\n",
    "            value: the initial value to put in the cells.\n",
    "        \"\"\"\n",
    "        self.keys = \"\".join(list(keys))\n",
    "        self.indices = dict((key, i) for i, key in enumerate(keys))\n",
    "        self.matrix = [[value] * len(self.keys) for i in range(len(self.keys))]\n",
    "    \n",
    "    def __getitem__(self, key):\n",
    "        return self.matrix[amino_acids_indices[key[0]]][amino_acids_indices[key[1]]]\n",
    "            \n",
    "    def __setitem__(self, key, value):\n",
    "        self.matrix[self.indices[key[0]]][self.indices[key[1]]] = value\n",
    "    \n",
    "    def __str__(self):\n",
    "        \"\"\"Converts the matrix to a string.\"\"\"\n",
    "        \n",
    "        cell_width = max(max(len(str(c)) for c in line) for line in self.matrix) + 1\n",
    "        res = \"\"\n",
    "        \n",
    "        for i in range(len(self.matrix)):\n",
    "            res += str(self.keys[i]).rjust(cell_width)\n",
    "            for j in range(len(self.matrix[i])):\n",
    "                if i >= j:\n",
    "                    res += str(self.matrix[j][i]).rjust(cell_width) + \" \"\n",
    "            res += \"\\n\"\n",
    "        res += (\" \" * cell_width) + \" \".join([c.rjust(cell_width) for c in self.keys]) + \"\\n\"\n",
    "        return res"
   ]
  },
  {
   "cell_type": "markdown",
   "metadata": {},
   "source": [
    "### Splitting domains in BLOCKS\n",
    "This function simply reads a fasta file containing all BLOCKS of a domain, and create a new file for each BLOCK. It then returns the names of the created files."
   ]
  },
  {
   "cell_type": "code",
   "execution_count": 3,
   "metadata": {
    "collapsed": true
   },
   "outputs": [],
   "source": [
    "def split_domain(domain_filename, number_blocks):\n",
    "    \"\"\"Reads a .fasta file containing blocks of a domain, and writes the blocks\n",
    "    in separate files. The blocks files have the same name as the domain file,\n",
    "    except that a letter is appended just before the extension.\n",
    "    \n",
    "    The domain file must be formatted as explained in the statement of the\n",
    "    project, thus copied from the BLOCKS database. Although the number of blocks\n",
    "    could be detected from the first lines of the file, asking the user for this\n",
    "    information make the code much clearer.\n",
    "    \n",
    "    Parameters:\n",
    "        domain_filename: the filename of the domain file\n",
    "        number_blocks: the number of differents blocks contained in the file\n",
    "    \n",
    "    Return value: the filenames of the created files\n",
    "    \"\"\"\n",
    "    \n",
    "    # Create the filenames of the block files\n",
    "    root, extension = splitext(domain_filename)\n",
    "    block_filenames = [root + \"-\" + chr(ord(\"A\") + i) + extension \\\n",
    "            for i in range(number_blocks)]\n",
    "    \n",
    "    # Open the block files\n",
    "    block_files = [open(filename, \"w\") for filename in block_filenames]\n",
    "    \n",
    "    try:\n",
    "        with open(domain_filename) as domain_file:\n",
    "            for i, line in enumerate(domain_file):\n",
    "                # local_index is 0 if the line is an identifier line,\n",
    "                # or (1 + the current block) otherwise\n",
    "                local_index = i % (number_blocks + 1)\n",
    "                if local_index != 0:\n",
    "                    block_files[local_index - 1].write(line)\n",
    "    finally:\n",
    "        for block_file in block_files:\n",
    "            block_file.close()\n",
    "    \n",
    "    return block_filenames"
   ]
  },
  {
   "cell_type": "markdown",
   "metadata": {},
   "source": [
    "### Identity rate\n",
    "This functions counts the number of identical characters that have the same position in two strings. Note that if a string is longer than the other, trailing characters from the longest string will be discarded from the count."
   ]
  },
  {
   "cell_type": "code",
   "execution_count": 4,
   "metadata": {
    "collapsed": true
   },
   "outputs": [],
   "source": [
    "def identity(string_a, string_b):\n",
    "    \"\"\"Computes the identity between two strings, in the range [0, 1].\"\"\"\n",
    "    \n",
    "    count = sum(1 if a == b else 0 for a, b in zip(string_a, string_b))\n",
    "    return count / min(len(string_a), len(string_b))"
   ]
  },
  {
   "cell_type": "markdown",
   "metadata": {},
   "source": [
    "### Clustering condition\n",
    "This function checks whether a sequence can be accepted in a cluster. Because this decision determines the topology of the clustering, it is more convenient to write it in a separate function."
   ]
  },
  {
   "cell_type": "code",
   "execution_count": 5,
   "metadata": {
    "collapsed": true
   },
   "outputs": [],
   "source": [
    "def is_accepted_in_cluster(sequence, cluster, required_identity):\n",
    "    \"\"\"Checks if a sequence can be accepted in a cluster.\n",
    "    Although the test is rather simple, we could think about more complicated\n",
    "    criterion, this is why it is a separate function.\"\"\"\n",
    "    \n",
    "    for other_sequence in cluster:\n",
    "        if identity(other_sequence, sequence) >= required_identity:\n",
    "            return True\n",
    "    return False"
   ]
  },
  {
   "cell_type": "markdown",
   "metadata": {},
   "source": [
    "### Clustering\n",
    "This functions opens and reads a BLOCK file, and splits all the sequences in clusters, according to the given required identity within a cluster."
   ]
  },
  {
   "cell_type": "code",
   "execution_count": 6,
   "metadata": {
    "collapsed": true
   },
   "outputs": [],
   "source": [
    "def make_clusters(block_filename, required_identity):\n",
    "    \"\"\"Creates a list of clusters from the block file, and based on the given\n",
    "    required identity. A cluster is represented by a list of strings.\n",
    "    \"\"\"\n",
    "    \n",
    "    clusters = []\n",
    "    \n",
    "    with open(block_filename) as file:\n",
    "        for sequence in file:\n",
    "            sequence = sequence.strip()\n",
    "            found = False\n",
    "            \n",
    "            # Search for a cluster that can contains the current sequence\n",
    "            for cluster in clusters:\n",
    "                if is_accepted_in_cluster(sequence, cluster, required_identity):\n",
    "                    # Add it if the cluster can accept it\n",
    "                    cluster.append(sequence)\n",
    "                    found = True\n",
    "                    break\n",
    "                    \n",
    "            if not found:\n",
    "                # Create a new cluster if there are no acceptable one\n",
    "                clusters.append([sequence])\n",
    "                \n",
    "    return clusters"
   ]
  },
  {
   "cell_type": "markdown",
   "metadata": {},
   "source": [
    "### Weighted frequencies\n",
    "This function calculates the matrix  $f_{a,b}$ for a specific block.\n",
    "\n",
    "The first part counts the frequency of each amino acid for each column, in each cluster. These frequencies are stored in a list of list of dictionaries. Each sub-list of the main list corresponds to a cluster, each element of these sub-lists corresponds to a column. Each dictionnary have amino acids as keys, and the corresponding frequencies as values.\n",
    "\n",
    "The second part computes the values of $f_{a, b}$ in an efficient way: all frequencies has already been computed and can be accessed in a $O(1)$ time (thanks to the dicts), and amino acids that have a null frequency are not even iterated (since they do not exists in the corresponding dict). "
   ]
  },
  {
   "cell_type": "code",
   "execution_count": 7,
   "metadata": {
    "collapsed": true
   },
   "outputs": [],
   "source": [
    "def weighted_frequencies(clusters):\n",
    "    \"\"\"Computes the weighted frequencies of all amino acids substitutions\n",
    "    between the given clusters, i.e. the matrix f in the slides.\n",
    "    \"\"\"\n",
    "    \n",
    "    f = CharMatrix(amino_acids, 0)\n",
    "    clusters_weights = [1 / len(cluster) for cluster in clusters]\n",
    "    number_columns = len(clusters[0][0])\n",
    "    number_clusters = len(clusters)\n",
    "    counts = [[{} for j in range(number_columns)] for i in range(number_clusters)]\n",
    "    \n",
    "    for i, cluster in enumerate(clusters):\n",
    "        for sequence in cluster:\n",
    "            for c in range(number_columns):\n",
    "                if sequence[c] != gap_char:\n",
    "                    counts[i][c][sequence[c]] = counts[i][c].setdefault(\n",
    "                            sequence[c], 0) + 1\n",
    "    \n",
    "    # Iterate over each possible pair of distinct clusters\n",
    "    for i in range(number_clusters):\n",
    "        for j in range(i + 1, number_clusters):\n",
    "            weight = clusters_weights[i] * clusters_weights[j]\n",
    "            # For each column of amino acid\n",
    "            for col in range(number_columns):\n",
    "                for a, frequency_a in counts[i][col].items():\n",
    "                    for b, frequency_b in counts[j][col].items():\n",
    "                        if amino_acids_indices[a] < amino_acids_indices[b]:\n",
    "                            f[a, b] += weight * frequency_a * frequency_b\n",
    "                        else:\n",
    "                            f[b, a] += weight * frequency_a * frequency_b\n",
    "    return f"
   ]
  },
  {
   "cell_type": "markdown",
   "metadata": {},
   "source": [
    "### Normalized sum\n",
    "This function computes a matrix whose elements are the mean of the corresponding elements in the given matrices.\n",
    "This is requested in the statement:\n",
    ">Les valeurs $f_{a,b}$ sont calculées sur les 4 BLOCK indépendamment.\n",
    ">Après le $f_{a,b}$ total pour tous les BLOCK ensemble est obtenu en faisant la somme normalisée des ces $f_{a,b}$ par BLOCK.\t"
   ]
  },
  {
   "cell_type": "code",
   "execution_count": 8,
   "metadata": {
    "collapsed": true
   },
   "outputs": [],
   "source": [
    "def normalized_sum(matrices):\n",
    "    \"\"\"Computes the mean of the given matrices.\"\"\"\n",
    "    \n",
    "    keys = matrices[0].keys\n",
    "    res = CharMatrix(keys, 0)\n",
    "    \n",
    "    for a in keys:\n",
    "        for b in keys[keys.index(a):]:\n",
    "            res[a, b] = mean(matrix[a, b] for matrix in matrices)\n",
    "    \n",
    "    return res"
   ]
  },
  {
   "cell_type": "markdown",
   "metadata": {},
   "source": [
    "### Occurence probabilities in the evolution pattern\n",
    "Here we compute the occurrence probabilities of a substitution in the evolution pattern, i.e.\n",
    "$$q_{a, b}=\\frac{f_{a,b}}{\\sum_{1\\le i\\le j}f_{i,j}}$$\n",
    "in the slides.  \n",
    "**Note:** the formula in the slides is exactly\n",
    "$$q_{a, b}=\\frac{f_{a,b}}{\\sum_{1\\le a\\le b}f_{a,b}}$$\n",
    "so I guessed that indices in the sum are different from the indices above the fraction. This leads to a consistent interpretation of the formula.\n",
    "\n",
    "**Other note:** from there, almost all remaining functions are just translations of formulas into Python code."
   ]
  },
  {
   "cell_type": "code",
   "execution_count": 9,
   "metadata": {
    "collapsed": true
   },
   "outputs": [],
   "source": [
    "def biological_probabilities(f):\n",
    "    \"\"\"Computes the probabilities of substitution in the biological pattern,\n",
    "    i.e. the matrix q in the slides.\n",
    "    \"\"\"\n",
    "    \n",
    "    q = CharMatrix(amino_acids, 0)\n",
    "    total_number_substitutions = 0\n",
    "    \n",
    "    for a in amino_acids:\n",
    "        for b in amino_acids[amino_acids_indices[a]:]:\n",
    "            total_number_substitutions += f[a, b]\n",
    "    \n",
    "    for a in amino_acids:\n",
    "        for b in amino_acids[amino_acids_indices[a]:]:\n",
    "            q[a, b] = f[a, b] / total_number_substitutions\n",
    "    \n",
    "    return q"
   ]
  },
  {
   "cell_type": "markdown",
   "metadata": {},
   "source": [
    "### Expected residue frequency\n",
    "We now compute the expected frequency by residue:\n",
    "$$p_a=q_{a, a} + \\frac{1}{2}\\sum_{a\\neq b}q_{a,b}$$"
   ]
  },
  {
   "cell_type": "code",
   "execution_count": 10,
   "metadata": {
    "collapsed": true
   },
   "outputs": [],
   "source": [
    "def residue_probablities(q):\n",
    "    \"\"\"Computes the residue probabilities, i.e. the vector p in the slides.\"\"\"\n",
    "    \n",
    "    p = [0] * len(amino_acids)\n",
    "    \n",
    "    for a in amino_acids:\n",
    "        p[amino_acids_indices[a]] = q[a, a] + (sum(q[a, b] for b in amino_acids\n",
    "                if a != b)) / 2\n",
    "    \n",
    "    return p"
   ]
  },
  {
   "cell_type": "markdown",
   "metadata": {},
   "source": [
    "### Occurence probabilities in the random pattern\n",
    "We now compute the occurence probability of a substitution in the random pattern:\n",
    "$$\n",
    " e_{a, b} = \\begin{cases}\n",
    "        2p_ap_b  & \\text{ when } a\\neq b\\\\\n",
    "        p_a^2 &  \\text{ when } a = b\n",
    "        \\end{cases}\n",
    "$$"
   ]
  },
  {
   "cell_type": "code",
   "execution_count": 11,
   "metadata": {
    "collapsed": true
   },
   "outputs": [],
   "source": [
    "def random_probabilities(p):\n",
    "    \"\"\"Computes the alignment probabilities in the random pattern, i.e. the\n",
    "    matrix e in the slides.\n",
    "    \"\"\"\n",
    "    \n",
    "    e = CharMatrix(amino_acids, 0)\n",
    "    \n",
    "    for a in amino_acids:\n",
    "        for b in amino_acids[amino_acids_indices[a]:]:\n",
    "            if a == b:\n",
    "                e[a, b] = p[amino_acids_indices[a]] ** 2\n",
    "            else:\n",
    "                e[a, b] = p[amino_acids_indices[a]] * p[amino_acids_indices[b]] * 2\n",
    "\n",
    "    return e"
   ]
  },
  {
   "cell_type": "markdown",
   "metadata": {},
   "source": [
    "### Log-odds ratios\n",
    "The last step, we compute the log-odds ratios:\n",
    "$$s_{a,b}=2\\log_2\\Big(\\frac{q_{a,b}}{e_{a,b}}\\Big)$$\n",
    "The $s_{a,b}$ matrix is the final BLOSUM matrix.\n",
    "Note that a rounding is applied on the values in order to get integers."
   ]
  },
  {
   "cell_type": "code",
   "execution_count": 12,
   "metadata": {
    "collapsed": true
   },
   "outputs": [],
   "source": [
    "def log_odds_ratio(q, e):\n",
    "    \"\"\"Computes the log-odds ratio, i.e. the matrix s in the slides.\"\"\"\n",
    "    \n",
    "    s = CharMatrix(amino_acids, 0)\n",
    "    \n",
    "    for a in amino_acids:\n",
    "        for b in amino_acids[amino_acids_indices[a]:]:\n",
    "            s[a, b] = 0 if q[a, b] == 0 else round(2 * log2(q[a, b] / e[a, b]))\n",
    "    \n",
    "    return s"
   ]
  },
  {
   "cell_type": "markdown",
   "metadata": {},
   "source": [
    "### Making the BLOSUM matrix\n",
    "The following function ties all these steps together. It accepts a domain filename and returns the BLOSUM matrix."
   ]
  },
  {
   "cell_type": "code",
   "execution_count": 13,
   "metadata": {
    "collapsed": true
   },
   "outputs": [],
   "source": [
    "def make_blosum(domain_filename, number_blocks, required_identity, print_info = False):\n",
    "    \"\"\"Constructs a BLOSUM matrix from a fasta file containing a domain.\n",
    "    \n",
    "    Parameters:\n",
    "        domain_filename: the filename of the domain to use\n",
    "        number_blocks: the number of BLOCKS in the domain\n",
    "        required_identity: the identity required in a cluster\n",
    "    \n",
    "    Return value: the BLOSUM matrix\n",
    "    \"\"\"\n",
    "    \n",
    "    if print_info:\n",
    "        print(\"Making BLOSUM\" + str(round(required_identity * 100)), \"from\",\n",
    "                domain_filename)\n",
    "    filenames = split_domain(domain_filename, number_blocks)\n",
    "    frequencies = []\n",
    "    \n",
    "    for filename in filenames:\n",
    "        if print_info:\n",
    "            print(\"Clustering\", filename, \"...\")\n",
    "        clusters = make_clusters(filename, required_identity)\n",
    "        if print_info:\n",
    "            print(\"Computing frequencies...\")\n",
    "        frequencies.append(weighted_frequencies(clusters))\n",
    "        \n",
    "    if print_info:\n",
    "        print(\"Normalizing BLOCKS...\")\n",
    "    f = normalized_sum(frequencies)\n",
    "    if print_info:\n",
    "        print(\"Computing other matrices...\")\n",
    "    q = biological_probabilities(f)\n",
    "    p = residue_probablities(q)\n",
    "    e = random_probabilities(p)\n",
    "    s = log_odds_ratio(q, e)\n",
    "    \n",
    "    return s"
   ]
  },
  {
   "cell_type": "markdown",
   "metadata": {
    "collapsed": true
   },
   "source": [
    "### The main function\n",
    "Here we generate 4 matrices, two for each domain."
   ]
  },
  {
   "cell_type": "code",
   "execution_count": 14,
   "metadata": {
    "collapsed": false
   },
   "outputs": [
    {
     "name": "stdout",
     "output_type": "stream",
     "text": [
      "  A  0 \n",
      "  R  0   2 \n",
      "  N  0   1   6 \n",
      "  D  0   0  -1   5 \n",
      "  C  2   1   0  -2  -5 \n",
      "  E  1   3   0  -1   2   3 \n",
      "  Q  2   1  -1   1   1   2   0 \n",
      "  G  0  -3   0   0   1  -2  -1   3 \n",
      "  H  2   1   1   3   0   2   4   0  -3 \n",
      "  I  2   4   1   2   3   5   2   0   1   6 \n",
      "  L  3   3   3   2   3   4   4   1   5   5   5 \n",
      "  K  4   3   5   3   4   6   5   3   4   5   6   5 \n",
      "  M  2   5   4   0   1   5   4  -1   7   4   6   3   8 \n",
      "  F  4   4   0   4   4   5   5   1   6   6   6   6   6   7 \n",
      "  P  4   5   2   5   1   3   6   1   6   6   6   7   7   8   9 \n",
      "  S  5   1   6   3   6   3   4   6   5   4   5   8   4   7   7  10 \n",
      "  T  9   9   5   9   9   7  10   6  10  11  11  13   5  12  14   9  14 \n",
      "  W  3   0   2   4   9   2   4   9   8   1   5  12   6   7   8  14   6  18 \n",
      "  Y  6   7   7   8   4   7   9   3  10   5  10   9  12  10  11   9  13  11  14 \n",
      "  V  6   9   8   6   8  11   8   5   9  11  10   9  12  12  10  10  13  12  14  16 \n",
      "     A   R   N   D   C   E   Q   G   H   I   L   K   M   F   P   S   T   W   Y   V\n",
      "\n"
     ]
    }
   ],
   "source": [
    "def main():\n",
    "    print(make_blosum(\"PDZ-domain.fasta\", 2, 0.4, True))\n",
    "    print(make_blosum(\"SH3-domain.fasta\", 4, 0.4, True))\n",
    "    print(make_blosum(\"PDZ-domain.fasta\", 2, 0.7, True))\n",
    "    print(make_blosum(\"SH3-domain.fasta\", 4, 0.7, True))\n",
    "\n",
    "if __name__ == \"__main__\":\n",
    "    main()"
   ]
  },
  {
   "cell_type": "markdown",
   "metadata": {},
   "source": [
    "## Results\n",
    "### Method\n",
    "The four generated matrices have been saved to files. These files can be found in the `output/` folder.  \n",
    "The steps of the BLOSUM method have been explained above, but here is a brief summary:\n",
    "* Split the domain in mutliple BLOCKS.\n",
    "* Compute the weighted frequencies for each BLOCK.\n",
    "* Compute the mean of the weighted frequencies between the BLOCKS.\n",
    "* Compute the occurrence probabilities of substitutions in the evolution pattern.\n",
    "* Compute the individual residue probabilities.\n",
    "* Compute the occurrence probabilities of substitutions in the random pattern.\n",
    "* Compute the log-odds ratios.\n",
    "\n",
    "### Comparison with BLOSUM62\n",
    "Here is the BLOSUM70 matrix computed for the SH3 domain:\n",
    "```\n",
    "  A   R   N   D   C   Q   E   G   H   I   L   K   M   F   P   S   T   W   Y   V\n",
    "  4 \n",
    " -1   3 \n",
    "  0   0   5 \n",
    "  0   0   2   5 \n",
    "  2   1   0  -1   4 \n",
    "  0   3   2   2   1   4 \n",
    "  1   2   2   4   1   4   5 \n",
    "  1  -2   2   1   0   0   0   8 \n",
    "  0   2   2   1   3   3   3   1   5 \n",
    " -2   0  -2  -3   0   0   0  -4   1   4 \n",
    " -2  -1  -1  -3   1   0  -1  -4   2   4   6 \n",
    "  2   5   3   2   3   5   5   0   5   2   1   8 \n",
    "  2   3   2   2   4   4   4   0   4   5   6   6   8 \n",
    " -2  -1  -2  -4   3  -1  -1  -5   3   2   3   1   5   8 \n",
    "  1   0   1   1  -1   0   1   0   1  -2  -2   3   2  -3  10 \n",
    "  4   4   6   5   3   5   5   3   5   1   1   6   5   1   5  11 \n",
    "  5   6   6   5   5   7   7   3   7   5   5   8   8   3   4  10  11 \n",
    " -3  -3  -4  -3   3  -2  -3  -7   1   0   2  -1   5   3  -6   0   3  12 \n",
    "  1   2   1  -1   6   2   1  -1   7   3   3   4   6   7  -1   4   6   6  11 \n",
    "  4   4   2   0   5   4   3   1   4   7   6   6   7   6   2   5   8   2   5  11 \n",
    "```\n",
    "In comparison, here is the BLOSUM62 matrix without `B`, `Z` and `X` values:\n",
    "```\n",
    "  A   R   N   D   C   Q   E   G   H   I   L   K   M   F   P   S   T   W   Y   V\n",
    "  4 \n",
    " -1   5 \n",
    " -2   0   6 \n",
    " -2  -2   1   6 \n",
    "  0  -3  -3  -3   9 \n",
    " -1   1   0   0  -3   5 \n",
    " -1   0   0   2  -4   2   5 \n",
    "  0  -2   0  -1  -3  -2  -2   6 \n",
    " -2   0   1  -1  -3   0   0  -2   8 \n",
    " -1  -3  -3  -3  -1  -3  -3  -4  -3   4 \n",
    " -1  -2  -3  -4  -1  -2  -3  -4  -3   2   4 \n",
    " -1   2   0  -1  -3   1   1  -2  -1  -3  -2   5 \n",
    " -1  -1  -2  -3  -1   0  -2  -3  -2   1   2  -1   5 \n",
    " -2  -3  -3  -3  -2  -3  -3  -3  -1   0   0  -3   0   6 \n",
    " -1  -2  -2  -1  -3  -1  -1  -2  -2  -3  -3  -1  -2  -4   7 \n",
    "  1  -1   1   0  -1   0   0   0  -1  -2  -2   0  -1  -2  -1   4 \n",
    "  0  -1   0  -1  -1  -1  -1  -2  -2  -1  -1  -1  -1  -2  -1   1   5 \n",
    " -3  -3  -4  -4  -2  -2  -3  -2  -2  -3  -2  -3  -1   1  -4  -3  -2  11 \n",
    " -2  -2  -2  -3  -2  -1  -2  -3   2  -1  -1  -2  -1   3  -3  -2  -2   2   7 \n",
    "  0  -3  -3  -3  -1  -2  -2  -3  -3   3   1  -2   1  -1  -2  -2   0  -3  -1   4 \n",
    "```"
   ]
  },
  {
   "cell_type": "markdown",
   "metadata": {},
   "source": [
    "As we can see, a lot of substitutions that were forbidden in the original BLOSUM62 matrix are now allowed in our SH3 BLOSUM70 matrix.\n",
    "\n",
    "BLOSUM62 have only a few positive values outside the diagonal, but in our BLOSUM70 matrix there is alot of positive values. Only the amino acids `I`, `L`, `F` and `W` have a significant amount of negative values.\n",
    "\n",
    "The diagonals have similar values, but only a few values are equal."
   ]
  },
  {
   "cell_type": "markdown",
   "metadata": {},
   "source": [
    "### Alignment tests"
   ]
  },
  {
   "cell_type": "markdown",
   "metadata": {},
   "source": [
    "I ran my project 1 with the freshly created BLOSUM70 matrix, and with two SH3 sequences (with global alignment):\n",
    "```\n",
    "1 solution were found.\n",
    "                    10        20        30        40        50        60 \n",
    "Sequence 1: GGVTTFVALYDYESRTETDLSFKKGERLQIVNNTEGDWWLAHSLSTGQTGYIPSNYVAPSDS\n",
    "            ......::::::......::...::....:.......::.:.. ..::.::::::::.....\n",
    "Sequence 2: SELKKVVALYDYMPMNANDLQLRKGDEYFILEESNLPWWRARD-KNGQEGYIPSNYVTEAED\n",
    "\n",
    "```\n",
    "And with the BLOSUM40 matrix:\n",
    "```\n",
    "1 solution were found.\n",
    "                    10        20        30        40        50        60 \n",
    "Sequence 1: GGVTTFVALYDYESRTETDLSFKKGERLQIVNNTEGDWWLAHSLSTGQTGYIPSNYVAPSDS\n",
    "            ......::::::......::...::....:.......::.:.. ..::.::::::::.....\n",
    "Sequence 2: SELKKVVALYDYMPMNANDLQLRKGDEYFILEESNLPWWRARD-KNGQEGYIPSNYVTEAED\n",
    "\n",
    "```\n",
    "I also have done tests on other SH3 sequences, the two BLOSUM matrices always gave the same results. That is probably due to the fact that the SH3 sequences are very short and similar."
   ]
  },
  {
   "cell_type": "markdown",
   "metadata": {},
   "source": [
    "Alignment for the same sequences, but with the original BLOSUM62 matrix:\n",
    "```\n",
    "1 solution were found.\n",
    "                    10        20        30        40        50        60 \n",
    "Sequence 1: GGVTTFVALYDYESRTETDLSFKKGERLQIVNNTEGDWWLAHSLSTGQTGYIPSNYVAPSDS\n",
    "            ......::::::......::...::....:.......::.:.. ..::.::::::::.....\n",
    "Sequence 2: SELKKVVALYDYMPMNANDLQLRKGDEYFILEESNLPWWRARD-KNGQEGYIPSNYVTEAED\n",
    "                    10        20        30        40         50        60\n",
    "```\n",
    "This alignment is identical to the one given by our new matrices, for the same reason as in the previous paragraph.\n",
    "\n",
    "However, the alignments given by our BLOSUM SH3 matrices should be better for aligning arbitrary SH3 sequences than the generic BLOSUM62, because the values we computed came from SH3 alignments only. Thus they reflects better the substitution probabilities than the generic BLOSUM, because this latter one is also influenced by other domains."
   ]
  },
  {
   "cell_type": "code",
   "execution_count": null,
   "metadata": {
    "collapsed": true
   },
   "outputs": [],
   "source": []
  }
 ],
 "metadata": {
  "kernelspec": {
   "display_name": "Python 3",
   "language": "python",
   "name": "python3"
  },
  "language_info": {
   "codemirror_mode": {
    "name": "ipython",
    "version": 3
   },
   "file_extension": ".py",
   "mimetype": "text/x-python",
   "name": "python",
   "nbconvert_exporter": "python",
   "pygments_lexer": "ipython3",
   "version": "3.5.2"
  }
 },
 "nbformat": 4,
 "nbformat_minor": 1
}
